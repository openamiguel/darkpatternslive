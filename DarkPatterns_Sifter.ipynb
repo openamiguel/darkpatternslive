{
 "cells": [
  {
   "cell_type": "markdown",
   "metadata": {},
   "source": [
    "## Twitter API"
   ]
  },
  {
   "cell_type": "code",
   "execution_count": 39,
   "metadata": {},
   "outputs": [],
   "source": [
    "from TwitterAPI import TwitterAPI\n",
    "\n",
    "import hashlib\n",
    "import getpass\n",
    "\n",
    "import pandas as pd\n",
    "\n",
    "COMPUTER_USERNAME_HASH = \"327529c973f4a2eca02eda86530afdacbcb2d04af59de078201a6c1d3e1f7af2\""
   ]
  },
  {
   "cell_type": "code",
   "execution_count": 10,
   "metadata": {},
   "outputs": [
    {
     "name": "stdout",
     "output_type": "stream",
     "text": [
      "Type in a computer username: ········\n"
     ]
    }
   ],
   "source": [
    "### Input a file path to my credentials ###\n",
    "# No peeking! Did you think I would put my computer's username in the code?\n",
    "computer_username = getpass.getpass(\"Type in a computer username: \")\n",
    "hashGen = hashlib.sha256()\n",
    "hashGen.update(computer_username.encode('utf-8'))\n",
    "if COMPUTER_USERNAME_HASH != hashGen.hexdigest(): \n",
    "    raise ValueError(\"Incorrect file path passed to code!\")"
   ]
  },
  {
   "cell_type": "code",
   "execution_count": 11,
   "metadata": {},
   "outputs": [],
   "source": [
    "### Access Twitter credentials at the given file ###\n",
    "twitter_credentials_fpath = f\"/Users/{computer_username}/Documents/TWITTER_API_CREDENTIALS.txt\"\n",
    "twitter_credentials_file = open(twitter_credentials_fpath, 'r')\n",
    "twitter_credentials = twitter_credentials_file.read().split(\"\\n\")"
   ]
  },
  {
   "cell_type": "code",
   "execution_count": 12,
   "metadata": {},
   "outputs": [],
   "source": [
    "### Input a file path to my Reddit credentials ###\n",
    "TWITTER_APP_KEY = twitter_credentials[0]\n",
    "TWITTER_APP_KEY_SECRET = twitter_credentials[1]\n",
    "TWITTER_ACCESS_TOKEN = twitter_credentials[2]\n",
    "TWITTER_ACCESS_TOKEN_SECRET = twitter_credentials[3]"
   ]
  },
  {
   "cell_type": "code",
   "execution_count": 52,
   "metadata": {},
   "outputs": [],
   "source": [
    "MAX_TWEETS = 100\n",
    "\n",
    "api = TwitterAPI(TWITTER_APP_KEY, \n",
    "               TWITTER_APP_KEY_SECRET, \n",
    "               TWITTER_ACCESS_TOKEN, \n",
    "               TWITTER_ACCESS_TOKEN_SECRET)\n",
    "\n",
    "queries = ['#darkpattern', '#darkpatterns', '@darkpatterns']\n",
    "counts = [MAX_TWEETS] * 3\n",
    "\n",
    "MAIN_URL = \"https://t.co/\"\n",
    "\n",
    "keynames = ['Created at: ', 'ID String: ', 'Text: ', 'Is_Truncated: ']\n",
    "keys = ['created_at', 'idstr', 'text', 'truncated']\n",
    "keynames_meta = ['Language: ', 'Result_Type: ']\n",
    "keys_meta = ['iso_language_code', 'result_type']\n",
    "\n",
    "data_rowslist = []"
   ]
  },
  {
   "cell_type": "code",
   "execution_count": 54,
   "metadata": {},
   "outputs": [
    {
     "name": "stdout",
     "output_type": "stream",
     "text": [
      "\n",
      "QUOTA: {'remaining': 162, 'limit': None, 'reset': None}\n",
      "\n",
      "QUOTA: {'remaining': 161, 'limit': None, 'reset': None}\n",
      "\n",
      "QUOTA: {'remaining': 160, 'limit': None, 'reset': None}\n"
     ]
    }
   ],
   "source": [
    "#### WARNING: DO NOT RUN UNLESS YOU REALLY WANT TO !!! ####\n",
    "mainpath = f\"/Users/{computer_username}/Desktop/\"\n",
    "outfile = open(mainpath + \"TWITTER_DATA_partial.txt\", \"a\")\n",
    "# Sweeps through several requests at once\n",
    "for query, cnt in zip(queries, counts):\n",
    "    req = api.request('search/tweets', {'q': query, 'count': cnt})\n",
    "    # Sweeps through all tweets in a request\n",
    "    for item in req:  \n",
    "        results = {k: '' for k in keys + keys_meta}\n",
    "        for name, k in zip(keynames, keys): \n",
    "            if k in item: \n",
    "                entry = str(item[k])\n",
    "                entry = entry.replace('\\n', '')\n",
    "                entry = entry.replace('\\t', '')\n",
    "                results[k] = entry\n",
    "        for name, k in zip(keynames_meta, keys_meta):\n",
    "            if 'metadata' in item and k in item['metadata']: results[k] = item['metadata'][k]\n",
    "        # Add URL to the data\n",
    "        url = ''\n",
    "        if 'text' in item: \n",
    "            url_idx = item['text'].rfind(MAIN_URL)\n",
    "            url = item['text'][url_idx:]\n",
    "        results['url'] = url\n",
    "        data_rowslist.append(results)\n",
    "        rowlist = [str(val) for val in results.values()]\n",
    "        outfile.write('\\t'.join(rowlist) + '\\n')\n",
    "\n",
    "    print(f\"\\nQUOTA: {req.get_quota()}\")"
   ]
  },
  {
   "cell_type": "code",
   "execution_count": 55,
   "metadata": {},
   "outputs": [],
   "source": [
    "### Save and print the data ###\n",
    "outfile.close()\n",
    "column_list = keys + keys_meta + ['url']\n",
    "data = pd.DataFrame(data_rowslist, columns=column_list)\n",
    "# print(data)\n",
    "data.to_csv(mainpath + \"TWITTER_DATA.txt\", sep='\\t', index=False)"
   ]
  },
  {
   "cell_type": "markdown",
   "metadata": {},
   "source": [
    "Link to Twitter API guide: https://developer.twitter.com/en/docs/tweets/search/api-reference/get-search-tweets\n",
    "\n",
    "Link to StackOverflow for Twitter API: https://stackoverflow.com/questions/14156625/fetching-tweets-with-hashtag-from-twitter-using-python"
   ]
  },
  {
   "cell_type": "markdown",
   "metadata": {},
   "source": [
    "## Reddit API"
   ]
  },
  {
   "cell_type": "code",
   "execution_count": 32,
   "metadata": {},
   "outputs": [
    {
     "name": "stdout",
     "output_type": "stream",
     "text": [
      "       ID                                    Title_Artifacts Title_Code  \\\n",
      "0  b0qpuz                                     Black very low       EC;S   \n",
      "1  b9az02               Enriched with Vitamin A;Vitamin A 0%          U   \n",
      "2  b9uuf8  EVICTION NOTICE: We regret to inform you that ...         EC   \n",
      "3  bam9n9   Are you sure you want to cancel a free download?          F   \n",
      "5  bzrz6k  3 FREE months of Uconnect Access. Press the Ca...          U   \n",
      "\n",
      "  Is_Asshole_Design Modality_Code Interaction_Domain_Code  \\\n",
      "0             Y;Y;Y             O                      PP   \n",
      "1             Y;Y;Y             P                      PP   \n",
      "2             Y;Y;Y             P                       C   \n",
      "3             Y;Y;Y             C                      PS   \n",
      "5             Y;Y;Y             O                      PP   \n",
      "\n",
      "  Interaction_Purpose_Code Is_Dark_Pattern Dark_Pattern_Code  \n",
      "0                       IN               Y                HI  \n",
      "1                       PA               Y                HI  \n",
      "2                       PA               Y                TE  \n",
      "3                    IN;PA               Y          HI;FH;TE  \n",
      "5                 IN;PA;ES               Y             FA;FH  \n",
      "\n",
      "Length of dataframe: 12\n"
     ]
    }
   ],
   "source": [
    "import pandas as pd\n",
    "import numpy as np\n",
    "import os\n",
    "import matplotlib.pyplot as plt\n",
    "\n",
    "dirpath = \"/Users/openamiguel/Documents/REDDIT/CODING_00/\"\n",
    "os.chdir(dirpath)\n",
    "df = pd.read_csv(\"CODING_00_DATA.txt\", sep='\\t')\n",
    "columns = [\"ID\", \"Title_Artifacts\", \"Title_Code\", \"Is_Asshole_Design\", \"Modality_Code\", \"Interaction_Domain_Code\", \"Interaction_Purpose_Code\", \"Is_Dark_Pattern\", \"Dark_Pattern_Code\"]\n",
    "df.columns = columns\n",
    "\n",
    "# Filter out posts that are not asshole design\n",
    "df_filtered = df[df.Is_Asshole_Design == \"Y;Y;Y\"]\n",
    "# Filter out posts that are not dark patterns\n",
    "df_filtered = df_filtered[df_filtered.Is_Dark_Pattern == \"Y\"]\n",
    "print(df_filtered.head())\n",
    "print()\n",
    "print(f\"Length of dataframe: {len(df_filtered)}\")"
   ]
  },
  {
   "cell_type": "code",
   "execution_count": 54,
   "metadata": {},
   "outputs": [],
   "source": [
    "# Subsumes certain codes with a broader category\n",
    "# Relevant to dark patterns only\n",
    "def get_code_replace(): \n",
    "    code_replace = dict()\n",
    "    replace_1 = ['RM', 'PC', 'IC'] # Replace with 'O'\n",
    "    replace_2 = ['FC', 'HC', 'SB', 'BAS'] # Replace with 'S'\n",
    "    replace_3 = ['HI', 'PS', 'AM', 'TE', 'FH', 'DA', 'TQ'] # Replace with 'II'\n",
    "    replace_4 = ['SP', 'PZ', 'G'] # Replace with 'FA'\n",
    "    replaces = ['O', 'S', 'II', 'FA']\n",
    "    replace_list = [replace_1, replace_2, replace_3, replace_4]\n",
    "\n",
    "    for newcode, oldlist in zip(replaces, replace_list): \n",
    "        for entry in oldlist: \n",
    "            code_replace[entry] = newcode\n",
    "    \n",
    "    return code_replace"
   ]
  },
  {
   "cell_type": "code",
   "execution_count": 58,
   "metadata": {},
   "outputs": [
    {
     "data": {
      "image/png": "[encoded data removed]",
      "text/plain": [
       "<Figure size 432x288 with 1 Axes>"
      ]
     },
     "metadata": {},
     "output_type": "display_data"
    },
    {
     "data": {
      "image/png": "[encoded data removed]",
      "text/plain": [
       "<Figure size 432x288 with 1 Axes>"
      ]
     },
     "metadata": {},
     "output_type": "display_data"
    },
    {
     "data": {
      "image/png": "[encoded data removed]",
      "text/plain": [
       "<Figure size 432x288 with 1 Axes>"
      ]
     },
     "metadata": {},
     "output_type": "display_data"
    },
    {
     "data": {
      "image/png": "[encoded data removed]",
      "text/plain": [
       "<Figure size 432x288 with 1 Axes>"
      ]
     },
     "metadata": {},
     "output_type": "display_data"
    },
    {
     "data": {
      "image/png": "[encoded data removed]",
      "text/plain": [
       "<Figure size 432x288 with 1 Axes>"
      ]
     },
     "metadata": {},
     "output_type": "display_data"
    },
    {
     "data": {
      "image/png": "[encoded data removed]",
      "text/plain": [
       "<Figure size 432x288 with 1 Axes>"
      ]
     },
     "metadata": {},
     "output_type": "display_data"
    },
    {
     "data": {
      "text/plain": [
       "({'II': 13, 'FA': 2, 'O': 2, 'S': 1}, 18)"
      ]
     },
     "execution_count": 58,
     "metadata": {},
     "output_type": "execute_result"
    }
   ],
   "source": [
    "# Plot all codes under one header\n",
    "def plot_codes(field_of_interest: str, code_replace: dict={}): \n",
    "    codes = dict()\n",
    "    for row in df_filtered[field_of_interest]: \n",
    "        entries = row.split(';')\n",
    "        for entry in entries: \n",
    "            entry_rep = entry\n",
    "            if entry_rep in code_replace.keys(): \n",
    "                entry_rep = code_replace[entry_rep]\n",
    "            if entry_rep in codes.keys(): \n",
    "                codes[entry_rep] = codes[entry_rep] + 1\n",
    "            else:\n",
    "                codes[entry_rep] = 1\n",
    "    title = f\"Field of interest: {field_of_interest}\"\n",
    "    if len(code_replace.keys()) > 0: title = title + \" with replacements\"\n",
    "    plt.title(title, fontsize=16)\n",
    "    plt.bar(codes.keys(), codes.values(), width=1, color='g', edgecolor='k')\n",
    "    plt.show()\n",
    "    \n",
    "    return codes, np.sum(np.array(list(codes.values())))\n",
    "\n",
    "for colname in columns:\n",
    "    if \"Code\" in colname: plot_codes(colname)\n",
    "\n",
    "plot_codes(\"Dark_Pattern_Code\", code_replace=get_code_replace())"
   ]
  },
  {
   "cell_type": "code",
   "execution_count": 60,
   "metadata": {},
   "outputs": [
    {
     "name": "stdout",
     "output_type": "stream",
     "text": [
      "bhzw6v\n"
     ]
    },
    {
     "ename": "TypeError",
     "evalue": "unsupported format string passed to FileNotFoundError.__format__",
     "output_type": "error",
     "traceback": [
      "\u001b[0;31m---------------------------------------------------------------------------\u001b[0m",
      "\u001b[0;31mFileNotFoundError\u001b[0m                         Traceback (most recent call last)",
      "\u001b[0;32m<ipython-input-60-675453b75f0a>\u001b[0m in \u001b[0;36m<module>\u001b[0;34m()\u001b[0m\n\u001b[1;32m     26\u001b[0m     \u001b[0mtarget\u001b[0m \u001b[0;34m=\u001b[0m \u001b[0;34mf\"{dirpath}CODING_{analysis_num:02d}/\"\u001b[0m \u001b[0;34m+\u001b[0m \u001b[0msource\u001b[0m\u001b[0;34m\u001b[0m\u001b[0m\n\u001b[0;32m---> 27\u001b[0;31m     \u001b[0;32mtry\u001b[0m\u001b[0;34m:\u001b[0m \u001b[0mshutil\u001b[0m\u001b[0;34m.\u001b[0m\u001b[0mcopyfile\u001b[0m\u001b[0;34m(\u001b[0m\u001b[0msource\u001b[0m\u001b[0;34m,\u001b[0m \u001b[0mtarget\u001b[0m\u001b[0;34m)\u001b[0m\u001b[0;34m\u001b[0m\u001b[0m\n\u001b[0m\u001b[1;32m     28\u001b[0m     \u001b[0;32mexcept\u001b[0m \u001b[0mIOError\u001b[0m \u001b[0;32mas\u001b[0m \u001b[0me\u001b[0m\u001b[0;34m:\u001b[0m\u001b[0;34m\u001b[0m\u001b[0m\n",
      "\u001b[0;32m~/anaconda3/lib/python3.6/shutil.py\u001b[0m in \u001b[0;36mcopyfile\u001b[0;34m(src, dst, follow_symlinks)\u001b[0m\n\u001b[1;32m    120\u001b[0m         \u001b[0;32mwith\u001b[0m \u001b[0mopen\u001b[0m\u001b[0;34m(\u001b[0m\u001b[0msrc\u001b[0m\u001b[0;34m,\u001b[0m \u001b[0;34m'rb'\u001b[0m\u001b[0;34m)\u001b[0m \u001b[0;32mas\u001b[0m \u001b[0mfsrc\u001b[0m\u001b[0;34m:\u001b[0m\u001b[0;34m\u001b[0m\u001b[0m\n\u001b[0;32m--> 121\u001b[0;31m             \u001b[0;32mwith\u001b[0m \u001b[0mopen\u001b[0m\u001b[0;34m(\u001b[0m\u001b[0mdst\u001b[0m\u001b[0;34m,\u001b[0m \u001b[0;34m'wb'\u001b[0m\u001b[0;34m)\u001b[0m \u001b[0;32mas\u001b[0m \u001b[0mfdst\u001b[0m\u001b[0;34m:\u001b[0m\u001b[0;34m\u001b[0m\u001b[0m\n\u001b[0m\u001b[1;32m    122\u001b[0m                 \u001b[0mcopyfileobj\u001b[0m\u001b[0;34m(\u001b[0m\u001b[0mfsrc\u001b[0m\u001b[0;34m,\u001b[0m \u001b[0mfdst\u001b[0m\u001b[0;34m)\u001b[0m\u001b[0;34m\u001b[0m\u001b[0m\n",
      "\u001b[0;31mFileNotFoundError\u001b[0m: [Errno 2] No such file or directory: '/Users/openamiguel/Documents/REDDIT/CODING_01/bhzw6v.png'",
      "\nDuring handling of the above exception, another exception occurred:\n",
      "\u001b[0;31mTypeError\u001b[0m                                 Traceback (most recent call last)",
      "\u001b[0;32m<ipython-input-60-675453b75f0a>\u001b[0m in \u001b[0;36m<module>\u001b[0;34m()\u001b[0m\n\u001b[1;32m     27\u001b[0m     \u001b[0;32mtry\u001b[0m\u001b[0;34m:\u001b[0m \u001b[0mshutil\u001b[0m\u001b[0;34m.\u001b[0m\u001b[0mcopyfile\u001b[0m\u001b[0;34m(\u001b[0m\u001b[0msource\u001b[0m\u001b[0;34m,\u001b[0m \u001b[0mtarget\u001b[0m\u001b[0;34m)\u001b[0m\u001b[0;34m\u001b[0m\u001b[0m\n\u001b[1;32m     28\u001b[0m     \u001b[0;32mexcept\u001b[0m \u001b[0mIOError\u001b[0m \u001b[0;32mas\u001b[0m \u001b[0me\u001b[0m\u001b[0;34m:\u001b[0m\u001b[0;34m\u001b[0m\u001b[0m\n\u001b[0;32m---> 29\u001b[0;31m         \u001b[0mprint\u001b[0m\u001b[0;34m(\u001b[0m\u001b[0;34mf\"Unable to copy file. {e:s}\"\u001b[0m\u001b[0;34m)\u001b[0m\u001b[0;34m\u001b[0m\u001b[0m\n\u001b[0m\u001b[1;32m     30\u001b[0m         \u001b[0mexit\u001b[0m\u001b[0;34m(\u001b[0m\u001b[0;36m1\u001b[0m\u001b[0;34m)\u001b[0m\u001b[0;34m\u001b[0m\u001b[0m\n\u001b[1;32m     31\u001b[0m     \u001b[0;32mexcept\u001b[0m\u001b[0;34m:\u001b[0m\u001b[0;34m\u001b[0m\u001b[0m\n",
      "\u001b[0;31mTypeError\u001b[0m: unsupported format string passed to FileNotFoundError.__format__"
     ]
    }
   ],
   "source": [
    "import pandas as pd\n",
    "import glob, os\n",
    "from random import sample\n",
    "import shutil\n",
    "\n",
    "dirpath = \"/Users/openamiguel/Documents/REDDIT/\"\n",
    "os.chdir(dirpath)\n",
    "df = pd.read_csv(\"DATA_0401.txt\", sep='\\t')\n",
    "# print(df.head())\n",
    "# Save a certain number of images to a special folder\n",
    "num_files = 20\n",
    "analysis_num = 1\n",
    "indices = [i for i in range(len(df))]\n",
    "sampled_indices = sample(indices, len(df))\n",
    "\n",
    "i = 0\n",
    "j = 0\n",
    "while i < num_files: \n",
    "    idx = sampled_indices[j]\n",
    "    j = j + 1\n",
    "    file_id = df.loc[idx, 'ID']\n",
    "    sourcelist = glob.glob(file_id + \".*\")\n",
    "    if len(sourcelist) == 0: continue\n",
    "    print(file_id)\n",
    "    source = sourcelist[0]\n",
    "    target = f\"{dirpath}CODING_{analysis_num:02d}/\" + source\n",
    "    try: shutil.copyfile(source, target)\n",
    "    except IOError as e:\n",
    "        print(f\"Unable to copy file. {e:s}\")\n",
    "        exit(1)\n",
    "    except: \n",
    "        print(f\"Unexpected error: {sys.exc_info()}\")\n",
    "        exit(1)\n",
    "    i = i + 1\n",
    "\n",
    "print(f\"Total number of files: {i}\")"
   ]
  },
  {
   "cell_type": "code",
   "execution_count": 3,
   "metadata": {},
   "outputs": [],
   "source": [
    "#! usr/bin/env python3\n",
    "import praw\n",
    "import urllib.request\n",
    "\n",
    "import pandas as pd\n",
    "\n",
    "from datetime import datetime\n",
    "import time\n",
    "import os.path\n",
    "\n",
    "import pprint\n",
    "\n",
    "from textblob import TextBlob\n",
    "\n",
    "DELAY = 0.5"
   ]
  },
  {
   "cell_type": "code",
   "execution_count": 9,
   "metadata": {},
   "outputs": [],
   "source": [
    "### Access Reddit credentials at the given file ###\n",
    "reddit_credentials_fpath = f\"/Users/{computer_username}/Documents/REDDIT_API_CREDENTIALS.txt\"\n",
    "reddit_credentials_file = open(reddit_credentials_fpath, 'r')\n",
    "reddit_credentials = reddit_credentials_file.read().split(\"\\n\")"
   ]
  },
  {
   "cell_type": "code",
   "execution_count": 10,
   "metadata": {},
   "outputs": [],
   "source": [
    "### Access credentials from file on same machine ###\n",
    "REDDIT_PERSONAL_USE_SCRIPT = reddit_credentials[0]\n",
    "REDDIT_SECRET_KEY = reddit_credentials[1]\n",
    "REDDIT_APP_NAME = reddit_credentials[2]\n",
    "# No peeking! Did you think I would put my Reddit password in the code? \n",
    "# Username & password are unnecessary for public posts\n",
    "REDDIT_USER_NAME = reddit_credentials[3]\n",
    "REDDIT_LOGIN_PASSWORD = reddit_credentials[4]"
   ]
  },
  {
   "cell_type": "code",
   "execution_count": 11,
   "metadata": {},
   "outputs": [],
   "source": [
    "### Plug credentials into a parser object ###\n",
    "reddit = praw.Reddit(client_id=REDDIT_PERSONAL_USE_SCRIPT, \\\n",
    "                     client_secret=REDDIT_SECRET_KEY, \\\n",
    "                     user_agent=REDDIT_APP_NAME, \\\n",
    "                     username=REDDIT_USER_NAME, \\\n",
    "                     password=REDDIT_LOGIN_PASSWORD)"
   ]
  },
  {
   "cell_type": "code",
   "execution_count": null,
   "metadata": {},
   "outputs": [],
   "source": [
    "# assume you have a Reddit instance bound to variable `reddit`\n",
    "submission = reddit.submission(id='39zje0')\n",
    "print(submission.title) # to make it non-lazy\n",
    "pprint.pprint(vars(submission))"
   ]
  },
  {
   "cell_type": "code",
   "execution_count": 13,
   "metadata": {},
   "outputs": [],
   "source": [
    "### Compute date & time from Unix timestamp ###\n",
    "def get_time_from_unix(timestamp: int): \n",
    "    return datetime.utcfromtimestamp(timestamp).strftime('%Y-%m-%d %H:%M:%S')"
   ]
  },
  {
   "cell_type": "code",
   "execution_count": 14,
   "metadata": {},
   "outputs": [],
   "source": [
    "### Defines the permissible flairs ###\n",
    "ALLOWED_FLAIRS = [None, \"Bad Unsubscribe Function\", \"Clickshaming\", \"Dark Pattern\", \\\n",
    "                  \"Bait and Switch\", \"Loaded Question\"]\n",
    "IMAGE_TAGS = [\"i.redd.it\", \".png\", \".jpg\", \".gif\"]\n",
    "VIDEO_TAGS = [\"v.redd.it\", \".mp4\", \".mov\"]"
   ]
  },
  {
   "cell_type": "code",
   "execution_count": 17,
   "metadata": {},
   "outputs": [
    {
     "name": "stdout",
     "output_type": "stream",
     "text": [
      "Current ID: fs8pcf\n",
      "Current ID: fske7v\n",
      "Current ID: fsdf3o\n",
      "Current ID: fs7nac\n",
      "Current ID: fsesis\n",
      "Current ID: fs2if8\n",
      "Current ID: fsfm2z\n",
      "Current ID: fs8g9o\n",
      "Current ID: fslh2b\n"
     ]
    }
   ],
   "source": [
    "### Defines parsing parameters for a designated subreddit ###\n",
    "subreddit = reddit.subreddit('assholedesign')\n",
    "# Options: all, year, day, hour, week, month\n",
    "top_subreddit = subreddit.top('day', limit=1000)\n",
    "mainpath = f\"/Users/{computer_username}/Desktop/Reddit/\"\n",
    "\n",
    "data_rowslist = []\n",
    "column_list = [\"ID\", \"Title\", \"Title_Language\", \"Media_Type\", \"Media_URL\", \"Date_Time\", \"Flair\", \\\n",
    "               \"Local_File_Name\", \"Is_OC\", \"Score\", \"Upvote_Ratio\"]\n",
    "\n",
    "\n",
    "### Parses a designated subreddit for certain data ###\n",
    "outfile = open(mainpath + \"DATA_partial.txt\", \"a\")\n",
    "for submission in top_subreddit: \n",
    "    # Removes all posts without URLs (i.e. posts without images)\n",
    "    if submission.is_self: continue\n",
    "    # Removes all posts without the proper flairs\n",
    "    if submission.link_flair_text not in ALLOWED_FLAIRS: continue\n",
    "    # Removes all posts with low score (might not be \"asshole design\")\n",
    "    if submission.upvote_ratio < 0.6: continue\n",
    "    # Determines if the title is English\n",
    "    title_obj = TextBlob(submission.title)\n",
    "    title_lang = title_obj.detect_language()\n",
    "    # if title_lang != \"en\": continue\n",
    "    # Parses date & time\n",
    "    submission_datetime = get_time_from_unix(int(float(submission.created_utc)))\n",
    "    # Decides if media is image or video\n",
    "    submission_type = \"Other\"\n",
    "    submission_url = submission.url\n",
    "    if any([img_tag in submission_url for img_tag in IMAGE_TAGS]): submission_type = \"Image\"\n",
    "    elif any([vid_tag in submission_url for vid_tag in VIDEO_TAGS]): submission_type = \"Video\"\n",
    "    elif \"imgur.com\" in submission_url: submission_type = \"Imgur_Non_Image\"\n",
    "    # Gives the media a location on my computer\n",
    "    submission_localname = mainpath + submission.id + \".\" + submission_url.split('.')[-1]\n",
    "    # Retrieves images ONLY\n",
    "    if submission_type == \"Image\" and not os.path.isfile(submission_localname): \n",
    "        urllib.request.urlretrieve(submission_url, submission_localname)\n",
    "    else: submission_localname = \"NA\"\n",
    "    # Saves all the data\n",
    "    rowdict = {}\n",
    "    rowdict[\"ID\"] = submission.id\n",
    "    rowdict[\"Title\"] = submission.title.replace('\\t', '')\n",
    "    rowdict[\"Title Language\"] = title_lang\n",
    "    rowdict[\"Media_Type\"] = submission_type\n",
    "    rowdict[\"Media_URL\"] = submission_url\n",
    "    rowdict[\"Date_Time\"] = submission_datetime\n",
    "    flair = submission.link_flair_text\n",
    "    if flair != None: flair = flair.replace('\\t', '')\n",
    "    rowdict[\"Flair\"] = flair\n",
    "    rowdict[\"Local_File_Name\"] = '/'.join(submission_localname.split('/')[3:])\n",
    "    rowdict[\"Is_OC\"] = submission.is_original_content\n",
    "    rowdict[\"Score\"] = submission.score\n",
    "    rowdict[\"Upvote_Ratio\"] = submission.upvote_ratio\n",
    "    # Collects data in Pandas DataFrame\n",
    "    data_rowslist.append(rowdict)\n",
    "    rowlist = [str(val) for val in rowdict.values()]\n",
    "    outfile.write('\\t'.join(rowlist) + '\\n')\n",
    "    \n",
    "    print(f\"Current ID: {submission.id}\")\n",
    "    # print(submission.title)\n",
    "    # time.sleep(DELAY)\n",
    "\n",
    "outfile.close()"
   ]
  },
  {
   "cell_type": "code",
   "execution_count": 40,
   "metadata": {},
   "outputs": [],
   "source": [
    "### Save and print the data ###\n",
    "data = pd.DataFrame(data_rowslist, columns=column_list)\n",
    "# print(data)\n",
    "data.to_csv(mainpath + \"DATA.txt\", sep='\\t', index=False)"
   ]
  },
  {
   "cell_type": "markdown",
   "metadata": {},
   "source": [
    "## MySQL Database API"
   ]
  },
  {
   "cell_type": "code",
   "execution_count": 31,
   "metadata": {},
   "outputs": [],
   "source": [
    "### Access credentials at the given file ###\n",
    "mysql_credentials_fpath = f\"/Users/{computer_username}/Documents/REDDIT_API_CREDENTIALS.txt\"\n",
    "mysql_credentials_file = open(mysql_credentials_fpath, 'r')\n",
    "MYSQL_PASSWORD = mysql_credentials_file.read().split(\"\\n\")[0]"
   ]
  },
  {
   "cell_type": "code",
   "execution_count": 32,
   "metadata": {},
   "outputs": [
    {
     "ename": "OperationalError",
     "evalue": "(1045, \"Access denied for user 'user'@'localhost' (using password: YES)\")",
     "output_type": "error",
     "traceback": [
      "\u001b[0;31m---------------------------------------------------------------------------\u001b[0m",
      "\u001b[0;31mOperationalError\u001b[0m                          Traceback (most recent call last)",
      "\u001b[0;32m<ipython-input-32-971bfb7cd1ce>\u001b[0m in \u001b[0;36m<module>\u001b[0;34m()\u001b[0m\n\u001b[1;32m      8\u001b[0m                              \u001b[0mdb\u001b[0m\u001b[0;34m=\u001b[0m\u001b[0;34m'db'\u001b[0m\u001b[0;34m,\u001b[0m\u001b[0;34m\u001b[0m\u001b[0m\n\u001b[1;32m      9\u001b[0m                              \u001b[0mcharset\u001b[0m\u001b[0;34m=\u001b[0m\u001b[0;34m'utf8mb4'\u001b[0m\u001b[0;34m,\u001b[0m\u001b[0;34m\u001b[0m\u001b[0m\n\u001b[0;32m---> 10\u001b[0;31m                              cursorclass=pymysql.cursors.DictCursor)\n\u001b[0m\u001b[1;32m     11\u001b[0m \u001b[0;34m\u001b[0m\u001b[0m\n\u001b[1;32m     12\u001b[0m \u001b[0;32mtry\u001b[0m\u001b[0;34m:\u001b[0m\u001b[0;34m\u001b[0m\u001b[0m\n",
      "\u001b[0;32m~/anaconda3/lib/python3.6/site-packages/pymysql/__init__.py\u001b[0m in \u001b[0;36mConnect\u001b[0;34m(*args, **kwargs)\u001b[0m\n\u001b[1;32m     92\u001b[0m     \"\"\"\n\u001b[1;32m     93\u001b[0m     \u001b[0;32mfrom\u001b[0m \u001b[0;34m.\u001b[0m\u001b[0mconnections\u001b[0m \u001b[0;32mimport\u001b[0m \u001b[0mConnection\u001b[0m\u001b[0;34m\u001b[0m\u001b[0m\n\u001b[0;32m---> 94\u001b[0;31m     \u001b[0;32mreturn\u001b[0m \u001b[0mConnection\u001b[0m\u001b[0;34m(\u001b[0m\u001b[0;34m*\u001b[0m\u001b[0margs\u001b[0m\u001b[0;34m,\u001b[0m \u001b[0;34m**\u001b[0m\u001b[0mkwargs\u001b[0m\u001b[0;34m)\u001b[0m\u001b[0;34m\u001b[0m\u001b[0m\n\u001b[0m\u001b[1;32m     95\u001b[0m \u001b[0;34m\u001b[0m\u001b[0m\n\u001b[1;32m     96\u001b[0m \u001b[0;32mfrom\u001b[0m \u001b[0;34m.\u001b[0m \u001b[0;32mimport\u001b[0m \u001b[0mconnections\u001b[0m \u001b[0;32mas\u001b[0m \u001b[0m_orig_conn\u001b[0m\u001b[0;34m\u001b[0m\u001b[0m\n",
      "\u001b[0;32m~/anaconda3/lib/python3.6/site-packages/pymysql/connections.py\u001b[0m in \u001b[0;36m__init__\u001b[0;34m(self, host, user, password, database, port, unix_socket, charset, sql_mode, read_default_file, conv, use_unicode, client_flag, cursorclass, init_command, connect_timeout, ssl, read_default_group, compress, named_pipe, autocommit, db, passwd, local_infile, max_allowed_packet, defer_connect, auth_plugin_map, read_timeout, write_timeout, bind_address, binary_prefix, program_name, server_public_key)\u001b[0m\n\u001b[1;32m    323\u001b[0m             \u001b[0mself\u001b[0m\u001b[0;34m.\u001b[0m\u001b[0m_sock\u001b[0m \u001b[0;34m=\u001b[0m \u001b[0;32mNone\u001b[0m\u001b[0;34m\u001b[0m\u001b[0m\n\u001b[1;32m    324\u001b[0m         \u001b[0;32melse\u001b[0m\u001b[0;34m:\u001b[0m\u001b[0;34m\u001b[0m\u001b[0m\n\u001b[0;32m--> 325\u001b[0;31m             \u001b[0mself\u001b[0m\u001b[0;34m.\u001b[0m\u001b[0mconnect\u001b[0m\u001b[0;34m(\u001b[0m\u001b[0;34m)\u001b[0m\u001b[0;34m\u001b[0m\u001b[0m\n\u001b[0m\u001b[1;32m    326\u001b[0m \u001b[0;34m\u001b[0m\u001b[0m\n\u001b[1;32m    327\u001b[0m     \u001b[0;32mdef\u001b[0m \u001b[0m_create_ssl_ctx\u001b[0m\u001b[0;34m(\u001b[0m\u001b[0mself\u001b[0m\u001b[0;34m,\u001b[0m \u001b[0msslp\u001b[0m\u001b[0;34m)\u001b[0m\u001b[0;34m:\u001b[0m\u001b[0;34m\u001b[0m\u001b[0m\n",
      "\u001b[0;32m~/anaconda3/lib/python3.6/site-packages/pymysql/connections.py\u001b[0m in \u001b[0;36mconnect\u001b[0;34m(self, sock)\u001b[0m\n\u001b[1;32m    597\u001b[0m \u001b[0;34m\u001b[0m\u001b[0m\n\u001b[1;32m    598\u001b[0m             \u001b[0mself\u001b[0m\u001b[0;34m.\u001b[0m\u001b[0m_get_server_information\u001b[0m\u001b[0;34m(\u001b[0m\u001b[0;34m)\u001b[0m\u001b[0;34m\u001b[0m\u001b[0m\n\u001b[0;32m--> 599\u001b[0;31m             \u001b[0mself\u001b[0m\u001b[0;34m.\u001b[0m\u001b[0m_request_authentication\u001b[0m\u001b[0;34m(\u001b[0m\u001b[0;34m)\u001b[0m\u001b[0;34m\u001b[0m\u001b[0m\n\u001b[0m\u001b[1;32m    600\u001b[0m \u001b[0;34m\u001b[0m\u001b[0m\n\u001b[1;32m    601\u001b[0m             \u001b[0;32mif\u001b[0m \u001b[0mself\u001b[0m\u001b[0;34m.\u001b[0m\u001b[0msql_mode\u001b[0m \u001b[0;32mis\u001b[0m \u001b[0;32mnot\u001b[0m \u001b[0;32mNone\u001b[0m\u001b[0;34m:\u001b[0m\u001b[0;34m\u001b[0m\u001b[0m\n",
      "\u001b[0;32m~/anaconda3/lib/python3.6/site-packages/pymysql/connections.py\u001b[0m in \u001b[0;36m_request_authentication\u001b[0;34m(self)\u001b[0m\n\u001b[1;32m    869\u001b[0m             \u001b[0mplugin_name\u001b[0m \u001b[0;34m=\u001b[0m \u001b[0mauth_packet\u001b[0m\u001b[0;34m.\u001b[0m\u001b[0mread_string\u001b[0m\u001b[0;34m(\u001b[0m\u001b[0;34m)\u001b[0m\u001b[0;34m\u001b[0m\u001b[0m\n\u001b[1;32m    870\u001b[0m             \u001b[0;32mif\u001b[0m \u001b[0mself\u001b[0m\u001b[0;34m.\u001b[0m\u001b[0mserver_capabilities\u001b[0m \u001b[0;34m&\u001b[0m \u001b[0mCLIENT\u001b[0m\u001b[0;34m.\u001b[0m\u001b[0mPLUGIN_AUTH\u001b[0m \u001b[0;32mand\u001b[0m \u001b[0mplugin_name\u001b[0m \u001b[0;32mis\u001b[0m \u001b[0;32mnot\u001b[0m \u001b[0;32mNone\u001b[0m\u001b[0;34m:\u001b[0m\u001b[0;34m\u001b[0m\u001b[0m\n\u001b[0;32m--> 871\u001b[0;31m                 \u001b[0mauth_packet\u001b[0m \u001b[0;34m=\u001b[0m \u001b[0mself\u001b[0m\u001b[0;34m.\u001b[0m\u001b[0m_process_auth\u001b[0m\u001b[0;34m(\u001b[0m\u001b[0mplugin_name\u001b[0m\u001b[0;34m,\u001b[0m \u001b[0mauth_packet\u001b[0m\u001b[0;34m)\u001b[0m\u001b[0;34m\u001b[0m\u001b[0m\n\u001b[0m\u001b[1;32m    872\u001b[0m             \u001b[0;32melse\u001b[0m\u001b[0;34m:\u001b[0m\u001b[0;34m\u001b[0m\u001b[0m\n\u001b[1;32m    873\u001b[0m                 \u001b[0;31m# send legacy handshake\u001b[0m\u001b[0;34m\u001b[0m\u001b[0;34m\u001b[0m\u001b[0m\n",
      "\u001b[0;32m~/anaconda3/lib/python3.6/site-packages/pymysql/connections.py\u001b[0m in \u001b[0;36m_process_auth\u001b[0;34m(self, plugin_name, auth_packet)\u001b[0m\n\u001b[1;32m    900\u001b[0m             \u001b[0;32mreturn\u001b[0m \u001b[0m_auth\u001b[0m\u001b[0;34m.\u001b[0m\u001b[0mcaching_sha2_password_auth\u001b[0m\u001b[0;34m(\u001b[0m\u001b[0mself\u001b[0m\u001b[0;34m,\u001b[0m \u001b[0mauth_packet\u001b[0m\u001b[0;34m)\u001b[0m\u001b[0;34m\u001b[0m\u001b[0m\n\u001b[1;32m    901\u001b[0m         \u001b[0;32melif\u001b[0m \u001b[0mplugin_name\u001b[0m \u001b[0;34m==\u001b[0m \u001b[0;34mb\"sha256_password\"\u001b[0m\u001b[0;34m:\u001b[0m\u001b[0;34m\u001b[0m\u001b[0m\n\u001b[0;32m--> 902\u001b[0;31m             \u001b[0;32mreturn\u001b[0m \u001b[0m_auth\u001b[0m\u001b[0;34m.\u001b[0m\u001b[0msha256_password_auth\u001b[0m\u001b[0;34m(\u001b[0m\u001b[0mself\u001b[0m\u001b[0;34m,\u001b[0m \u001b[0mauth_packet\u001b[0m\u001b[0;34m)\u001b[0m\u001b[0;34m\u001b[0m\u001b[0m\n\u001b[0m\u001b[1;32m    903\u001b[0m         \u001b[0;32melif\u001b[0m \u001b[0mplugin_name\u001b[0m \u001b[0;34m==\u001b[0m \u001b[0;34mb\"mysql_native_password\"\u001b[0m\u001b[0;34m:\u001b[0m\u001b[0;34m\u001b[0m\u001b[0m\n\u001b[1;32m    904\u001b[0m             \u001b[0mdata\u001b[0m \u001b[0;34m=\u001b[0m \u001b[0m_auth\u001b[0m\u001b[0;34m.\u001b[0m\u001b[0mscramble_native_password\u001b[0m\u001b[0;34m(\u001b[0m\u001b[0mself\u001b[0m\u001b[0;34m.\u001b[0m\u001b[0mpassword\u001b[0m\u001b[0;34m,\u001b[0m \u001b[0mauth_packet\u001b[0m\u001b[0;34m.\u001b[0m\u001b[0mread_all\u001b[0m\u001b[0;34m(\u001b[0m\u001b[0;34m)\u001b[0m\u001b[0;34m)\u001b[0m\u001b[0;34m\u001b[0m\u001b[0m\n",
      "\u001b[0;32m~/anaconda3/lib/python3.6/site-packages/pymysql/_auth.py\u001b[0m in \u001b[0;36msha256_password_auth\u001b[0;34m(conn, pkt)\u001b[0m\n\u001b[1;32m    181\u001b[0m         \u001b[0mdata\u001b[0m \u001b[0;34m=\u001b[0m \u001b[0;34mb''\u001b[0m\u001b[0;34m\u001b[0m\u001b[0m\n\u001b[1;32m    182\u001b[0m \u001b[0;34m\u001b[0m\u001b[0m\n\u001b[0;32m--> 183\u001b[0;31m     \u001b[0;32mreturn\u001b[0m \u001b[0m_roundtrip\u001b[0m\u001b[0;34m(\u001b[0m\u001b[0mconn\u001b[0m\u001b[0;34m,\u001b[0m \u001b[0mdata\u001b[0m\u001b[0;34m)\u001b[0m\u001b[0;34m\u001b[0m\u001b[0m\n\u001b[0m\u001b[1;32m    184\u001b[0m \u001b[0;34m\u001b[0m\u001b[0m\n\u001b[1;32m    185\u001b[0m \u001b[0;34m\u001b[0m\u001b[0m\n",
      "\u001b[0;32m~/anaconda3/lib/python3.6/site-packages/pymysql/_auth.py\u001b[0m in \u001b[0;36m_roundtrip\u001b[0;34m(conn, send_data)\u001b[0m\n\u001b[1;32m    120\u001b[0m \u001b[0;32mdef\u001b[0m \u001b[0m_roundtrip\u001b[0m\u001b[0;34m(\u001b[0m\u001b[0mconn\u001b[0m\u001b[0;34m,\u001b[0m \u001b[0msend_data\u001b[0m\u001b[0;34m)\u001b[0m\u001b[0;34m:\u001b[0m\u001b[0;34m\u001b[0m\u001b[0m\n\u001b[1;32m    121\u001b[0m     \u001b[0mconn\u001b[0m\u001b[0;34m.\u001b[0m\u001b[0mwrite_packet\u001b[0m\u001b[0;34m(\u001b[0m\u001b[0msend_data\u001b[0m\u001b[0;34m)\u001b[0m\u001b[0;34m\u001b[0m\u001b[0m\n\u001b[0;32m--> 122\u001b[0;31m     \u001b[0mpkt\u001b[0m \u001b[0;34m=\u001b[0m \u001b[0mconn\u001b[0m\u001b[0;34m.\u001b[0m\u001b[0m_read_packet\u001b[0m\u001b[0;34m(\u001b[0m\u001b[0;34m)\u001b[0m\u001b[0;34m\u001b[0m\u001b[0m\n\u001b[0m\u001b[1;32m    123\u001b[0m     \u001b[0mpkt\u001b[0m\u001b[0;34m.\u001b[0m\u001b[0mcheck_error\u001b[0m\u001b[0;34m(\u001b[0m\u001b[0;34m)\u001b[0m\u001b[0;34m\u001b[0m\u001b[0m\n\u001b[1;32m    124\u001b[0m     \u001b[0;32mreturn\u001b[0m \u001b[0mpkt\u001b[0m\u001b[0;34m\u001b[0m\u001b[0m\n",
      "\u001b[0;32m~/anaconda3/lib/python3.6/site-packages/pymysql/connections.py\u001b[0m in \u001b[0;36m_read_packet\u001b[0;34m(self, packet_type)\u001b[0m\n\u001b[1;32m    682\u001b[0m \u001b[0;34m\u001b[0m\u001b[0m\n\u001b[1;32m    683\u001b[0m         \u001b[0mpacket\u001b[0m \u001b[0;34m=\u001b[0m \u001b[0mpacket_type\u001b[0m\u001b[0;34m(\u001b[0m\u001b[0mbuff\u001b[0m\u001b[0;34m,\u001b[0m \u001b[0mself\u001b[0m\u001b[0;34m.\u001b[0m\u001b[0mencoding\u001b[0m\u001b[0;34m)\u001b[0m\u001b[0;34m\u001b[0m\u001b[0m\n\u001b[0;32m--> 684\u001b[0;31m         \u001b[0mpacket\u001b[0m\u001b[0;34m.\u001b[0m\u001b[0mcheck_error\u001b[0m\u001b[0;34m(\u001b[0m\u001b[0;34m)\u001b[0m\u001b[0;34m\u001b[0m\u001b[0m\n\u001b[0m\u001b[1;32m    685\u001b[0m         \u001b[0;32mreturn\u001b[0m \u001b[0mpacket\u001b[0m\u001b[0;34m\u001b[0m\u001b[0m\n\u001b[1;32m    686\u001b[0m \u001b[0;34m\u001b[0m\u001b[0m\n",
      "\u001b[0;32m~/anaconda3/lib/python3.6/site-packages/pymysql/protocol.py\u001b[0m in \u001b[0;36mcheck_error\u001b[0;34m(self)\u001b[0m\n\u001b[1;32m    218\u001b[0m             \u001b[0merrno\u001b[0m \u001b[0;34m=\u001b[0m \u001b[0mself\u001b[0m\u001b[0;34m.\u001b[0m\u001b[0mread_uint16\u001b[0m\u001b[0;34m(\u001b[0m\u001b[0;34m)\u001b[0m\u001b[0;34m\u001b[0m\u001b[0m\n\u001b[1;32m    219\u001b[0m             \u001b[0;32mif\u001b[0m \u001b[0mDEBUG\u001b[0m\u001b[0;34m:\u001b[0m \u001b[0mprint\u001b[0m\u001b[0;34m(\u001b[0m\u001b[0;34m\"errno =\"\u001b[0m\u001b[0;34m,\u001b[0m \u001b[0merrno\u001b[0m\u001b[0;34m)\u001b[0m\u001b[0;34m\u001b[0m\u001b[0m\n\u001b[0;32m--> 220\u001b[0;31m             \u001b[0merr\u001b[0m\u001b[0;34m.\u001b[0m\u001b[0mraise_mysql_exception\u001b[0m\u001b[0;34m(\u001b[0m\u001b[0mself\u001b[0m\u001b[0;34m.\u001b[0m\u001b[0m_data\u001b[0m\u001b[0;34m)\u001b[0m\u001b[0;34m\u001b[0m\u001b[0m\n\u001b[0m\u001b[1;32m    221\u001b[0m \u001b[0;34m\u001b[0m\u001b[0m\n\u001b[1;32m    222\u001b[0m     \u001b[0;32mdef\u001b[0m \u001b[0mdump\u001b[0m\u001b[0;34m(\u001b[0m\u001b[0mself\u001b[0m\u001b[0;34m)\u001b[0m\u001b[0;34m:\u001b[0m\u001b[0;34m\u001b[0m\u001b[0m\n",
      "\u001b[0;32m~/anaconda3/lib/python3.6/site-packages/pymysql/err.py\u001b[0m in \u001b[0;36mraise_mysql_exception\u001b[0;34m(data)\u001b[0m\n\u001b[1;32m    107\u001b[0m         \u001b[0merrval\u001b[0m \u001b[0;34m=\u001b[0m \u001b[0mdata\u001b[0m\u001b[0;34m[\u001b[0m\u001b[0;36m3\u001b[0m\u001b[0;34m:\u001b[0m\u001b[0;34m]\u001b[0m\u001b[0;34m.\u001b[0m\u001b[0mdecode\u001b[0m\u001b[0;34m(\u001b[0m\u001b[0;34m'utf-8'\u001b[0m\u001b[0;34m,\u001b[0m \u001b[0;34m'replace'\u001b[0m\u001b[0;34m)\u001b[0m\u001b[0;34m\u001b[0m\u001b[0m\n\u001b[1;32m    108\u001b[0m     \u001b[0merrorclass\u001b[0m \u001b[0;34m=\u001b[0m \u001b[0merror_map\u001b[0m\u001b[0;34m.\u001b[0m\u001b[0mget\u001b[0m\u001b[0;34m(\u001b[0m\u001b[0merrno\u001b[0m\u001b[0;34m,\u001b[0m \u001b[0mInternalError\u001b[0m\u001b[0;34m)\u001b[0m\u001b[0;34m\u001b[0m\u001b[0m\n\u001b[0;32m--> 109\u001b[0;31m     \u001b[0;32mraise\u001b[0m \u001b[0merrorclass\u001b[0m\u001b[0;34m(\u001b[0m\u001b[0merrno\u001b[0m\u001b[0;34m,\u001b[0m \u001b[0merrval\u001b[0m\u001b[0;34m)\u001b[0m\u001b[0;34m\u001b[0m\u001b[0m\n\u001b[0m",
      "\u001b[0;31mOperationalError\u001b[0m: (1045, \"Access denied for user 'user'@'localhost' (using password: YES)\")"
     ]
    }
   ],
   "source": [
    "import pymysql.cursors\n",
    "import pymysql\n",
    "\n",
    "# Connect to the database\n",
    "connection = pymysql.connect(host='localhost',\n",
    "                             user='user',\n",
    "                             password=MYSQL_PASSWORD,\n",
    "                             db='db',\n",
    "                             charset='utf8mb4',\n",
    "                             cursorclass=pymysql.cursors.DictCursor)\n",
    "\n",
    "try:\n",
    "    with connection.cursor() as cursor:\n",
    "        # Create a new record\n",
    "        sql = \"INSERT INTO `users` (`email`, `password`) VALUES (%s, %s)\"\n",
    "        cursor.execute(sql, ('webmaster@python.org', 'very-secret'))\n",
    "\n",
    "    # connection is not autocommit by default. So you must commit to save\n",
    "    # your changes.\n",
    "    connection.commit()\n",
    "\n",
    "    with connection.cursor() as cursor:\n",
    "        # Read a single record\n",
    "        sql = \"SELECT `id`, `password` FROM `users` WHERE `email`=%s\"\n",
    "        cursor.execute(sql, ('webmaster@python.org',))\n",
    "        result = cursor.fetchone()\n",
    "        print(result)\n",
    "finally:\n",
    "    connection.close()"
   ]
  },
  {
   "cell_type": "markdown",
   "metadata": {},
   "source": [
    "Link to Guide: https://www.storybench.org/how-to-scrape-reddit-with-python/"
   ]
  },
  {
   "cell_type": "code",
   "execution_count": null,
   "metadata": {},
   "outputs": [],
   "source": []
  }
 ],
 "metadata": {
  "kernelspec": {
   "display_name": "Python 3",
   "language": "python",
   "name": "python3"
  },
  "language_info": {
   "codemirror_mode": {
    "name": "ipython",
    "version": 3
   },
   "file_extension": ".py",
   "mimetype": "text/x-python",
   "name": "python",
   "nbconvert_exporter": "python",
   "pygments_lexer": "ipython3",
   "version": "3.6.5"
  }
 },
 "nbformat": 4,
 "nbformat_minor": 2
}
