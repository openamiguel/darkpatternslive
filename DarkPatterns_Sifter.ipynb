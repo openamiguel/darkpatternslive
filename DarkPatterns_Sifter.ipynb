{
 "cells": [
  {
   "cell_type": "markdown",
   "metadata": {},
   "source": [
    "## Twitter API"
   ]
  },
  {
   "cell_type": "code",
   "execution_count": 1,
   "metadata": {},
   "outputs": [],
   "source": [
    "from twython import Twython\n",
    "\n",
    "TWITTER_APP_KEY = 'xxxxxx'  #supply the appropriate value\n",
    "TWITTER_APP_KEY_SECRET = 'xxxxxx' \n",
    "TWITTER_ACCESS_TOKEN = 'xxxxxxx'\n",
    "TWITTER_ACCESS_TOKEN_SECRET = 'xxxxxx'"
   ]
  },
  {
   "cell_type": "code",
   "execution_count": null,
   "metadata": {},
   "outputs": [],
   "source": [
    "t = Twython(app_key=TWITTER_APP_KEY, \n",
    "            app_secret=TWITTER_APP_KEY_SECRET, \n",
    "            oauth_token=TWITTER_ACCESS_TOKEN, \n",
    "            oauth_token_secret=TWITTER_ACCESS_TOKEN_SECRET)\n",
    "\n",
    "queries = ['#darkpattern', '#darkpatterns', '@darkpatterns']\n",
    "\n",
    "search = t.search(q='#lol',   #**supply whatever query you want here**\n",
    "                  count=100)\n",
    "\n",
    "tweets = search['statuses']\n",
    "\n",
    "for tweet in tweets:\n",
    "  print tweet['id_str'], '\\n', tweet['text'], '\\n\\n\\n'"
   ]
  },
  {
   "cell_type": "markdown",
   "metadata": {},
   "source": [
    "Link to Twitter API guide: https://developer.twitter.com/en/docs/tweets/search/api-reference/get-search-tweets\n",
    "\n",
    "Link to StackOverflow for Twitter API: https://stackoverflow.com/questions/14156625/fetching-tweets-with-hashtag-from-twitter-using-python"
   ]
  },
  {
   "cell_type": "markdown",
   "metadata": {},
   "source": [
    "## Reddit API"
   ]
  },
  {
   "cell_type": "code",
   "execution_count": 2,
   "metadata": {},
   "outputs": [],
   "source": [
    "#! usr/bin/env python3\n",
    "import praw\n",
    "import pandas as pd\n",
    "from datetime import datetime\n",
    "import hashlib\n",
    "import urllib.request\n",
    "import os.path\n",
    "\n",
    "import time\n",
    "DELAY = 0.5\n",
    "COMPUTER_USERNAME_HASH = \"327529c973f4a2eca02eda86530afdacbcb2d04af59de078201a6c1d3e1f7af2\""
   ]
  },
  {
   "cell_type": "code",
   "execution_count": 3,
   "metadata": {},
   "outputs": [
    {
     "name": "stdout",
     "output_type": "stream",
     "text": [
      "Type in a computer username: openamiguel\n"
     ]
    }
   ],
   "source": [
    "### Input a file path to my Reddit credentials ###\n",
    "# No peeking! Did you think I would put my computer's username in the code?\n",
    "computer_username = input(\"Type in a computer username: \")\n",
    "hashGen = hashlib.sha256()\n",
    "hashGen.update(computer_username.encode('utf-8'))\n",
    "if COMPUTER_USERNAME_HASH != hashGen.hexdigest(): \n",
    "    raise ValueError(\"Incorrect file path passed to code!\")"
   ]
  },
  {
   "cell_type": "code",
   "execution_count": 4,
   "metadata": {},
   "outputs": [],
   "source": [
    "### Access credentials at the given file ###\n",
    "reddit_credentials_fpath = f\"/Users/{computer_username}/Documents/REDDIT_API_CREDENTIALS.txt\"\n",
    "reddit_credentials_file = open(reddit_credentials_fpath, 'r')\n",
    "reddit_credentials = reddit_credentials_file.read().split(\"\\n\")"
   ]
  },
  {
   "cell_type": "code",
   "execution_count": 5,
   "metadata": {},
   "outputs": [],
   "source": [
    "### Access credentials from file on same machine ###\n",
    "REDDIT_PERSONAL_USE_SCRIPT = reddit_credentials[0]\n",
    "REDDIT_SECRET_KEY = reddit_credentials[1]\n",
    "REDDIT_APP_NAME = reddit_credentials[2]\n",
    "# No peeking! Did you think I would put my Reddit password in the code? \n",
    "# Username & password are unnecessary for public posts\n",
    "REDDIT_USER_NAME = reddit_credentials[3]\n",
    "REDDIT_LOGIN_PASSWORD = reddit_credentials[4]"
   ]
  },
  {
   "cell_type": "code",
   "execution_count": 6,
   "metadata": {},
   "outputs": [],
   "source": [
    "### Plug credentials into a parser object ###\n",
    "reddit = praw.Reddit(client_id=REDDIT_PERSONAL_USE_SCRIPT, \\\n",
    "                     client_secret=REDDIT_SECRET_KEY, \\\n",
    "                     user_agent=REDDIT_APP_NAME, \\\n",
    "                     username=REDDIT_USER_NAME, \\\n",
    "                     password=REDDIT_LOGIN_PASSWORD)"
   ]
  },
  {
   "cell_type": "code",
   "execution_count": 7,
   "metadata": {},
   "outputs": [],
   "source": [
    "### Compute date & time from Unix timestamp ###\n",
    "def get_time_from_unix(timestamp: int): \n",
    "    return datetime.utcfromtimestamp(timestamp).strftime('%Y-%m-%d %H:%M:%S')"
   ]
  },
  {
   "cell_type": "code",
   "execution_count": 8,
   "metadata": {},
   "outputs": [],
   "source": [
    "### Defines the permissible flairs ###\n",
    "ALLOWED_FLAIRS = [None, \"Bad Unsubscribe Function\", \"Clickshaming\", \"Dark Pattern\", \\\n",
    "                  \"Bait and Switch\", \"Loaded Question\"]\n",
    "IMAGE_TAGS = [\"i.redd.it\", \".png\", \".jpg\", \".gif\"]\n",
    "VIDEO_TAGS = [\"v.redd.it\", \".mp4\", \".mov\"]"
   ]
  },
  {
   "cell_type": "code",
   "execution_count": 24,
   "metadata": {},
   "outputs": [],
   "source": [
    "### Defines parsing parameters for a designated subreddit ###\n",
    "subreddit = reddit.subreddit('assholedesign')\n",
    "# Options: all, year, day, hour, week, month\n",
    "top_subreddit = subreddit.top('day', limit=10)\n",
    "mainpath = f\"/Users/{computer_username}/Desktop/Reddit/\"\n",
    "\n",
    "data_rowslist = []\n",
    "column_list = [\"ID\", \"Title\", \"Media_Type\", \"Media_URL\", \"Date_Time\", \"Flair\", \\\n",
    "               \"Local_File_Name\", \"Is_OC\", \"Score\", \"Upvote_Ratio\"]"
   ]
  },
  {
   "cell_type": "code",
   "execution_count": 25,
   "metadata": {},
   "outputs": [
    {
     "name": "stdout",
     "output_type": "stream",
     "text": [
      "fopsms\tThis shitty ad that compares you to a nazi\tImage\thttps://i.redd.it/r8ngn4ttfto41.png\t2020-03-25 12:55:05\tClickshaming\t\tFalse\t34793\t0.89\n",
      "fop1k1\tI paid 20 dollars for this game.\tImage\thttps://i.redd.it/ph0651bc5to41.png\t2020-03-25 11:56:04\tBait and Switch\t\tFalse\t189\t0.98\n",
      "fouyy4\tWait a damn minute...\tImage\thttps://i.redd.it/rt2oax1hzuo41.jpg\t2020-03-25 18:04:46\tBait and Switch\t\tFalse\t115\t0.98\n",
      "fomhd5\tSo i now get Ad's on my 'Source' selection...\tImage\thttps://i.redd.it/ye18u8ohzro41.jpg\t2020-03-25 07:59:29\tNone\t\tFalse\t107\t0.93\n",
      "foztwk\tAdding a weight to a laptop hard drive to make it seem bigger\tImage\thttps://i.imgur.com/IbM1yYq.jpg\t2020-03-25 22:37:29\tNone\t\tFalse\t134\t0.89\n",
      "foqpqg\tSending a letter that looks like information about the current pandemic solely to remind people rent is still due\tImage\thttps://i.redd.it/u32dln7hrto41.jpg\t2020-03-25 13:58:07\tBait and Switch\t\tFalse\t55\t0.83\n",
      "fou730\tShitty Scams like this during the whole COVID-19 pandemic\tImage\thttps://i.redd.it/xevam06rruo41.jpg\t2020-03-25 17:21:27\tClickshaming\t\tFalse\t49\t0.91\n",
      "fovve0\tI'm unable to shutdown my laptop now\tImage\thttps://i.redd.it/omyf33we8vo41.jpg\t2020-03-25 18:54:56\tNone\t\tFalse\t46\t0.94\n",
      "fp34si\tThis mail coming from an eye doctor’s office\tImage\thttps://i.redd.it/hjmvm5qicxo41.jpg\t2020-03-26 02:01:25\tDark Pattern\t\tFalse\t35\t0.98\n"
     ]
    }
   ],
   "source": [
    "### Parses a designated subreddit for certain data ###\n",
    "for submission in top_subreddit: \n",
    "    # Removes all posts without URLs (i.e. posts without images)\n",
    "    if submission.is_self: continue\n",
    "    # Removes all posts without the proper flairs\n",
    "    if submission.link_flair_text not in ALLOWED_FLAIRS: continue\n",
    "    # Removes all posts with low score (might not be \"asshole design\")\n",
    "    if submission.upvote_ratio < 0.6: continue\n",
    "    # Parses date & time\n",
    "    submission_datetime = get_time_from_unix(int(float(submission.created_utc)))\n",
    "    # Decides if media is image or video\n",
    "    submission_type = \"Other\"\n",
    "    submission_url = submission.url\n",
    "    if any([img_tag in submission_url for img_tag in IMAGE_TAGS]): submission_type = \"Image\"\n",
    "    elif any([vid_tag in submission_url for vid_tag in VIDEO_TAGS]): submission_type = \"Video\"\n",
    "    elif \"imgur.com\" in submission_url: submission_type = \"Imgur_Non_Image\"\n",
    "    \n",
    "    submission_localname = mainpath + submission.id + \".\" + submission_url.split('.')[-1]\n",
    "    \n",
    "    if submission_type == \"Image\" and not os.path.isfile(submission_localname): \n",
    "        urllib.request.urlretrieve(submission_url, submission_localname)\n",
    "    else: submission_localname = \"NA\"\n",
    "    \n",
    "    rowdict = {}\n",
    "    rowdict[\"ID\"] = submission.id\n",
    "    rowdict[\"Title\"] = submission.title.replace('\\t', '')\n",
    "    rowdict[\"Media_Type\"] = submission_type\n",
    "    rowdict[\"Media_URL\"] = submission_url\n",
    "    rowdict[\"Date_Time\"] = submission_datetime\n",
    "    flair = submission.link_flair_text\n",
    "    if flair != None: flair = flair.replace('\\t', '')\n",
    "    rowdict[\"Flair\"] = flair\n",
    "    rowdict[\"Local_File_Name\"] = '/'.join(submission_localname.split('/')[3:])\n",
    "    rowdict[\"Is_OC\"] = submission.is_original_content\n",
    "    rowdict[\"Score\"] = submission.score\n",
    "    rowdict[\"Upvote_Ratio\"] = submission.upvote_ratio\n",
    "    \n",
    "    data_rowslist.append(rowdict)\n",
    "    \n",
    "    rowlist = [str(val) for val in rowdict.values()]\n",
    "    print('\\t'.join(rowlist))\n",
    "    \n",
    "    # print(submission.id)\n",
    "    # print(submission.title)\n",
    "    # time.sleep(DELAY)"
   ]
  },
  {
   "cell_type": "code",
   "execution_count": 126,
   "metadata": {},
   "outputs": [
    {
     "name": "stdout",
     "output_type": "stream",
     "text": [
      "       ID                                              Title Media_Type  \\\n",
      "0  fopsms         This shitty ad that compares you to a nazi      Image   \n",
      "1  fop1k1                   I paid 20 dollars for this game.      Image   \n",
      "2  fouyy4                              Wait a damn minute...      Image   \n",
      "3  fomhd5      So i now get Ad's on my 'Source' selection...      Image   \n",
      "4  foztwk  Adding a weight to a laptop hard drive to make...      Image   \n",
      "5  foqpqg  Sending a letter that looks like information a...      Image   \n",
      "6  fou730  Shitty Scams like this during the whole COVID-...      Image   \n",
      "7  fovve0               I'm unable to shutdown my laptop now      Image   \n",
      "8  fp34si       This mail coming from an eye doctor’s office      Image   \n",
      "\n",
      "                             Media_URL            Date_Time            Flair  \\\n",
      "0  https://i.redd.it/r8ngn4ttfto41.png  2020-03-25 12:55:05     Clickshaming   \n",
      "1  https://i.redd.it/ph0651bc5to41.png  2020-03-25 11:56:04  Bait and Switch   \n",
      "2  https://i.redd.it/rt2oax1hzuo41.jpg  2020-03-25 18:04:46  Bait and Switch   \n",
      "3  https://i.redd.it/ye18u8ohzro41.jpg  2020-03-25 07:59:29             None   \n",
      "4      https://i.imgur.com/IbM1yYq.jpg  2020-03-25 22:37:29             None   \n",
      "5  https://i.redd.it/u32dln7hrto41.jpg  2020-03-25 13:58:07  Bait and Switch   \n",
      "6  https://i.redd.it/xevam06rruo41.jpg  2020-03-25 17:21:27     Clickshaming   \n",
      "7  https://i.redd.it/omyf33we8vo41.jpg  2020-03-25 18:54:56             None   \n",
      "8  https://i.redd.it/hjmvm5qicxo41.jpg  2020-03-26 02:01:25     Dark Pattern   \n",
      "\n",
      "  Local_File_Name  Is_OC  Score  Upvote_Ratio  \n",
      "0                  False  34696          0.89  \n",
      "1                  False    192          0.98  \n",
      "2                  False    109          0.98  \n",
      "3                  False    107          0.93  \n",
      "4                  False    127          0.89  \n",
      "5                  False     60          0.85  \n",
      "6                  False     46          0.90  \n",
      "7                  False     45          0.93  \n",
      "8                  False     34          0.98  \n"
     ]
    }
   ],
   "source": [
    "### Save and print the data ###\n",
    "data = pd.DataFrame(data_rowslist, columns=column_list)\n",
    "print(data)\n",
    "data.to_csv(mainpath + \"DATA.txt\", sep='\\t', index=False)"
   ]
  },
  {
   "cell_type": "markdown",
   "metadata": {},
   "source": [
    "Link to Guide: https://www.storybench.org/how-to-scrape-reddit-with-python/"
   ]
  },
  {
   "cell_type": "code",
   "execution_count": null,
   "metadata": {},
   "outputs": [],
   "source": []
  }
 ],
 "metadata": {
  "kernelspec": {
   "display_name": "Python 3",
   "language": "python",
   "name": "python3"
  },
  "language_info": {
   "codemirror_mode": {
    "name": "ipython",
    "version": 3
   },
   "file_extension": ".py",
   "mimetype": "text/x-python",
   "name": "python",
   "nbconvert_exporter": "python",
   "pygments_lexer": "ipython3",
   "version": "3.6.5"
  }
 },
 "nbformat": 4,
 "nbformat_minor": 2
}
