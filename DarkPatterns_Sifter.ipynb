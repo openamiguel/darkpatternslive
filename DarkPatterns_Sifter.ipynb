{
 "cells": [
  {
   "cell_type": "markdown",
   "metadata": {},
   "source": [
    "## Twitter API"
   ]
  },
  {
   "cell_type": "code",
   "execution_count": 1,
   "metadata": {},
   "outputs": [],
   "source": [
    "from twython import Twython\n",
    "\n",
    "TWITTER_APP_KEY = 'xxxxxx'  #supply the appropriate value\n",
    "TWITTER_APP_KEY_SECRET = 'xxxxxx' \n",
    "TWITTER_ACCESS_TOKEN = 'xxxxxxx'\n",
    "TWITTER_ACCESS_TOKEN_SECRET = 'xxxxxx'"
   ]
  },
  {
   "cell_type": "code",
   "execution_count": null,
   "metadata": {},
   "outputs": [],
   "source": [
    "t = Twython(app_key=TWITTER_APP_KEY, \n",
    "            app_secret=TWITTER_APP_KEY_SECRET, \n",
    "            oauth_token=TWITTER_ACCESS_TOKEN, \n",
    "            oauth_token_secret=TWITTER_ACCESS_TOKEN_SECRET)\n",
    "\n",
    "queries = ['#darkpattern', '#darkpatterns', '@darkpatterns']\n",
    "\n",
    "search = t.search(q='#lol',   #**supply whatever query you want here**\n",
    "                  count=100)\n",
    "\n",
    "tweets = search['statuses']\n",
    "\n",
    "for tweet in tweets:\n",
    "  print tweet['id_str'], '\\n', tweet['text'], '\\n\\n\\n'"
   ]
  },
  {
   "cell_type": "markdown",
   "metadata": {},
   "source": [
    "Link to Twitter API guide: https://developer.twitter.com/en/docs/tweets/search/api-reference/get-search-tweets\n",
    "\n",
    "Link to StackOverflow for Twitter API: https://stackoverflow.com/questions/14156625/fetching-tweets-with-hashtag-from-twitter-using-python"
   ]
  },
  {
   "cell_type": "markdown",
   "metadata": {},
   "source": [
    "## Reddit API"
   ]
  },
  {
   "cell_type": "code",
   "execution_count": 22,
   "metadata": {},
   "outputs": [],
   "source": [
    "from pprint import pprint\n",
    "\n",
    "import requests\n",
    "\n",
    "import json"
   ]
  },
  {
   "cell_type": "code",
   "execution_count": 23,
   "metadata": {},
   "outputs": [],
   "source": [
    "r = requests.get(r'http://www.reddit.com/user/GovSchwarzenegger/comments/.json')"
   ]
  },
  {
   "cell_type": "code",
   "execution_count": 24,
   "metadata": {},
   "outputs": [
    {
     "data": {
      "text/plain": [
       "'{\"message\": \"Too Many Requests\", \"error\": 429}'"
      ]
     },
     "execution_count": 24,
     "metadata": {},
     "output_type": "execute_result"
    }
   ],
   "source": [
    "data = r.json()\n",
    "# data.keys()\n",
    "r.text"
   ]
  },
  {
   "cell_type": "code",
   "execution_count": 71,
   "metadata": {},
   "outputs": [],
   "source": [
    "#! usr/bin/env python3\n",
    "import praw\n",
    "import pandas as pd\n",
    "from datetime import datetime\n",
    "import hashlib"
   ]
  },
  {
   "cell_type": "code",
   "execution_count": 44,
   "metadata": {},
   "outputs": [
    {
     "name": "stdout",
     "output_type": "stream",
     "text": [
      "Type in a file path: /Users/openamiguel/Documents/REDDIT_API_CREDENTIALS.txt\n"
     ]
    }
   ],
   "source": [
    "### Input a file path to my Reddit credentials ###\n",
    "FPATH_HASH = \"a41d1e4ac20051148a62a9f8cf7fbbc1119073e47829270a8e48acb6a4021539\"\n",
    "# No peeking! Did you think I would put the filepath in the code? \n",
    "reddit_credentials_fpath = input(\"Type in a file path: \")\n",
    "hashGen = hashlib.sha256()\n",
    "hashGen.update(reddit_credentials_fpath.encode('utf-8'))\n",
    "if FPATH_HASH != hashGen.hexdigest(): \n",
    "    raise ValueError(\"Incorrect file path passed to code!\")"
   ]
  },
  {
   "cell_type": "code",
   "execution_count": 45,
   "metadata": {},
   "outputs": [],
   "source": [
    "### Access credentials at the given file ###\n",
    "reddit_credentials_file = open(reddit_credentials_fpath, 'r')\n",
    "reddit_credentials = reddit_credentials_file.read().split(\"\\n\")"
   ]
  },
  {
   "cell_type": "code",
   "execution_count": 55,
   "metadata": {},
   "outputs": [],
   "source": [
    "### Access credentials from file on same machine ###\n",
    "REDDIT_PERSONAL_USE_SCRIPT = reddit_credentials[0]\n",
    "REDDIT_SECRET_KEY = reddit_credentials[1]\n",
    "REDDIT_APP_NAME = reddit_credentials[2]\n",
    "# No peeking! Did you think I would put my Reddit password in the code? \n",
    "# Username & password are unnecessary for public posts\n",
    "REDDIT_USER_NAME = reddit_credentials[3]\n",
    "REDDIT_LOGIN_PASSWORD = reddit_credentials[4]"
   ]
  },
  {
   "cell_type": "code",
   "execution_count": null,
   "metadata": {},
   "outputs": [],
   "source": [
    "### Plug credentials into a parser object ###\n",
    "reddit = praw.Reddit(client_id=REDDIT_PERSONAL_USE_SCRIPT, \\\n",
    "                     client_secret=REDDIT_SECRET_KEY, \\\n",
    "                     user_agent=REDDIT_APP_NAME, \\\n",
    "                     username=REDDIT_USER_NAME, \\\n",
    "                     password=REDDIT_LOGIN_PASSWORD)"
   ]
  },
  {
   "cell_type": "code",
   "execution_count": 78,
   "metadata": {},
   "outputs": [],
   "source": [
    "### Compute date & time from Unix timestamp ###\n",
    "def get_time_from_unix(timestamp: int): \n",
    "    return datetime.utcfromtimestamp(ts).strftime('%Y-%m-%d %H:%M:%S')"
   ]
  },
  {
   "cell_type": "code",
   "execution_count": 76,
   "metadata": {},
   "outputs": [],
   "source": [
    "### Defines the permissible flairs ###\n",
    "ALLOWED_FLAIRS = [None, \"Bad Unsubscribe Function\", \"Clickshaming\", \"Dark Pattern\", \\\n",
    "                  \"Bait and Switch\", \"Loaded Question\", \"Lethal Enforcers\"]"
   ]
  },
  {
   "cell_type": "code",
   "execution_count": 81,
   "metadata": {},
   "outputs": [
    {
     "name": "stdout",
     "output_type": "stream",
     "text": [
      "bqgt43 Youtuber gets every single video on his channel copyright claimed despite having the rights to all the music in his videos https://i.imgur.com/DFCbOrY.jpg 151153 0.98 2019-05-19 13:13:31 None\n",
      "crqx8r The Stranger Things S1 Blu Ray has an unskippable ad for S2 that contains S1 spoilers. And the ad is over 5 minutes long. https://v.redd.it/qka278f9b2h31 118620 0.97 2019-05-19 13:13:31 None\n",
      "ex8e5z I love ads on my £250 console that I continue to pay £6 a month to play on https://i.redd.it/j5ovndoy7ce41.jpg 108043 0.93 2019-05-19 13:13:31 None\n"
     ]
    }
   ],
   "source": [
    "### Parses a designated subreddit for certain data ###\n",
    "subreddit = reddit.subreddit('assholedesign')\n",
    "top_subreddit = subreddit.top(limit=5)\n",
    "for submission in top_subreddit: \n",
    "    # Removes all posts without URLs (i.e. posts without images)\n",
    "    if submission.is_self: continue\n",
    "    # Removes all posts without the proper flairs\n",
    "    if submission.link_flair_text not in ALLOWED_FLAIRS: continue\n",
    "    # Parses date & time\n",
    "    submission_datetime = get_time_from_unix(int(float(submission.created_utc)))\n",
    "    print(submission.id, submission.title, submission.url, submission.score, submission.upvote_ratio, submission_datetime, submission.link_flair_text)\n",
    "\n",
    "\n",
    "\n"
   ]
  },
  {
   "cell_type": "markdown",
   "metadata": {},
   "source": [
    "Link to Guide: https://www.storybench.org/how-to-scrape-reddit-with-python/"
   ]
  },
  {
   "cell_type": "code",
   "execution_count": null,
   "metadata": {},
   "outputs": [],
   "source": []
  }
 ],
 "metadata": {
  "kernelspec": {
   "display_name": "Python 3",
   "language": "python",
   "name": "python3"
  },
  "language_info": {
   "codemirror_mode": {
    "name": "ipython",
    "version": 3
   },
   "file_extension": ".py",
   "mimetype": "text/x-python",
   "name": "python",
   "nbconvert_exporter": "python",
   "pygments_lexer": "ipython3",
   "version": "3.6.5"
  }
 },
 "nbformat": 4,
 "nbformat_minor": 2
}
