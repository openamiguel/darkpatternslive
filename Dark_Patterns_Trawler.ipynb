{
 "cells": [
  {
   "cell_type": "markdown",
   "metadata": {},
   "source": [
    "# Dark Patterns Trawler\n",
    "\n",
    "This file contains all the scripts necessary to obtain raw data from Reddit's 'r/assholedesign' subreddit community. It also contains the scripts to analyze coded samples of the raw data.  "
   ]
  },
  {
   "cell_type": "markdown",
   "metadata": {},
   "source": [
    "## Scraping\n",
    "The first step is to retrieve raw data from the subreddit '/r/assholedesign'. My goal was to obtain as much as possible. In these cells, the key dependency is the `praw` library, which allows one to easily download data from Reddit. "
   ]
  },
  {
   "cell_type": "code",
   "execution_count": 3,
   "metadata": {},
   "outputs": [],
   "source": [
    "import praw\n",
    "import urllib.request\n",
    "import logging\n",
    "\n",
    "# from textblob import TextBlob\n",
    "\n",
    "import pandas as pd\n",
    "\n",
    "from datetime import datetime\n",
    "import time\n",
    "import os.path"
   ]
  },
  {
   "cell_type": "code",
   "execution_count": 4,
   "metadata": {},
   "outputs": [],
   "source": [
    "\"\"\" File path to Reddit credentials \"\"\"\n",
    "REDDIT_CREDENTIALS_FPATH = \"/u/mopena/REDDIT/REDDIT_API_CREDENTIALS.txt\"\n",
    "\n",
    "\"\"\" File path to image storage folder \"\"\"\n",
    "OUTPUT_FOLDER = \"/u/mopena/REDDIT/IMAGES/\"\n",
    "\n",
    "\"\"\" Name of the subreddit /r/assholedesign \"\"\"\n",
    "SUBREDDIT_NAME = \"assholedesign\"\n",
    "\n",
    "\"\"\" Permissible flairs to store data from subreddit \"\"\"\n",
    "ALLOWED_FLAIRS = [None, \"Bad Unsubscribe Function\", \"Clickshaming\", \"Dark Pattern\", \\\n",
    "                  \"Bait and Switch\", \"Loaded Question\"]\n",
    "\n",
    "\"\"\" Standard identifiers of images \"\"\"\n",
    "IMAGE_TAGS = [\"i.redd.it\", \".png\", \".jpg\", \".gif\"]\n",
    "\n",
    "\"\"\" Standard identifiers of videos \"\"\"\n",
    "VIDEO_TAGS = [\"v.redd.it\", \".mp4\", \".mov\"]\n",
    "\n",
    "\"\"\" List of columns in output data \"\"\"\n",
    "COLUMN_LIST = [\"ID\", \"Title\", \"Title_Language\", \"Media_Type\", \"Media_URL\", \"Date_Time\", \"Flair\", \\\n",
    "               \"Local_File_Name\", \"Is_OC\", \"Score\", \"Upvote_Ratio\"]\n",
    "\n",
    "\"\"\" Praw library upper bound on number of posts \"\"\"\n",
    "UPPER_BOUND = 1000"
   ]
  },
  {
   "cell_type": "markdown",
   "metadata": {},
   "source": [
    "When this code is run for the first time, I recommend using the first set of parsing parameters (all, year, month, week, day, hour). By doing so, one can start strong, with as much data from the subreddit as possible. Then, run these cells once a week to collect the most recent data every week. "
   ]
  },
  {
   "cell_type": "code",
   "execution_count": null,
   "metadata": {},
   "outputs": [],
   "source": [
    "\"\"\" List of parameters to control parsing \"\"\"\n",
    "# PARSING_PARAMS = [(\"all\", UPPER_BOUND), (\"year\", UPPER_BOUND), (\"month\", UPPER_BOUND), \\\n",
    "#                  (\"week\", UPPER_BOUND), (\"day\", UPPER_BOUND), (\"hour\", UPPER_BOUND)]\n",
    "PARSING_PARAMS = [(\"day\", UPPER_BOUND), (\"week\", UPPER_BOUND)]"
   ]
  },
  {
   "cell_type": "code",
   "execution_count": 10,
   "metadata": {},
   "outputs": [],
   "source": [
    "def get_credentialed_parser(filepath: str=REDDIT_CREDENTIALS_FPATH): \n",
    "    \"\"\" Retrieves Reddit credentials from local file and returns parser object \"\"\"\n",
    "    REDDIT_CREDENTIALS_FILE = open(filepath, 'r')\n",
    "    REDDIT_CREDENTIALS = REDDIT_CREDENTIALS_FILE.read().split('\\n')\n",
    "    # Access credentials in file\n",
    "    REDDIT_PERSONAL_USE_SCRIPT = REDDIT_CREDENTIALS[0]\n",
    "    REDDIT_SECRET_KEY = REDDIT_CREDENTIALS[1]\n",
    "    REDDIT_APP_NAME = REDDIT_CREDENTIALS[2]\n",
    "    REDDIT_USER_NAME = REDDIT_CREDENTIALS[3]\n",
    "    REDDIT_LOGIN_PASSWORD = REDDIT_CREDENTIALS[4]\n",
    "    # Plug credentials in\n",
    "    reddit = praw.Reddit(client_id=REDDIT_PERSONAL_USE_SCRIPT, \\\n",
    "                     client_secret=REDDIT_SECRET_KEY, \\\n",
    "                     user_agent=REDDIT_APP_NAME, \\\n",
    "                     username=REDDIT_USER_NAME, \\\n",
    "                     password=REDDIT_LOGIN_PASSWORD)\n",
    "    return reddit"
   ]
  },
  {
   "cell_type": "code",
   "execution_count": 11,
   "metadata": {},
   "outputs": [],
   "source": [
    "def get_time_from_unix(timestamp: int): \n",
    "    \"\"\" Return date & time given a Unix timestamp \"\"\"\n",
    "    return datetime.utcfromtimestamp(timestamp).strftime('%Y-%m-%d %H:%M:%S')"
   ]
  },
  {
   "cell_type": "code",
   "execution_count": null,
   "metadata": {},
   "outputs": [],
   "source": [
    "def retrieve_image(submission_url, submission_localname): \n",
    "    \"\"\" Retrieve a file from the Internet and store \"\"\"\n",
    "    urllib.request.urlretrieve(submission_url, submission_localname)"
   ]
  },
  {
   "cell_type": "code",
   "execution_count": 13,
   "metadata": {},
   "outputs": [],
   "source": [
    "def process_submission(submission) -> dict: \n",
    "    \"\"\" Return a dictionary encoding data on a submission \"\"\"\n",
    "    # Removes all posts without URLs (i.e. posts without visual media)\n",
    "    if submission.is_self: return {0: -1}\n",
    "    # Removes all posts without the proper flairs\n",
    "    if submission.link_flair_text not in ALLOWED_FLAIRS: return {0: -1}\n",
    "    # Removes all posts with low score (might not be \"asshole design\")\n",
    "    if submission.upvote_ratio < 0.6: return {0: -1}\n",
    "    # Determines if the title is English\n",
    "    # title_obj = TextBlob(submission.title)\n",
    "    # title_lang = title_obj.detect_language()\n",
    "    # if title_lang != \"en\": return {0: -1}\n",
    "    # Parses date & time\n",
    "    submission_datetime = get_time_from_unix(int(float(submission.created_utc)))\n",
    "    # Decides if media is image or video\n",
    "    submission_type = \"Other\"\n",
    "    submission_url = submission.url\n",
    "    if any([img_tag in submission_url for img_tag in IMAGE_TAGS]): submission_type = \"Image\"\n",
    "    elif any([vid_tag in submission_url for vid_tag in VIDEO_TAGS]): submission_type = \"Video\"\n",
    "    elif \"imgur.com\" in submission_url: submission_type = \"Imgur_Non_Image\"\n",
    "    # Assigns the media a file location on local machine\n",
    "    submission_localname = OUTPUT_FOLDER + submission.id + \".\" + submission_url.split('.')[-1]\n",
    "    # Retrieves images to local machine\n",
    "    if submission_type == \"Image\" and not os.path.isfile(submission_localname): \n",
    "        try: retrieve_image(submission_url, submission_localname)\n",
    "        except: \n",
    "            exceptionstr = f\"EXCEPTION detected on saving {submission_url} to {submission_localname}\"\n",
    "            print(exceptionstr)\n",
    "            logging.debug(exceptionstr)\n",
    "    else: submission_localname = \"NA\"\n",
    "    # Saves all the data\n",
    "    rowdict = {}\n",
    "    rowdict[\"ID\"] = submission.id\n",
    "    rowdict[\"Title\"] = submission.title.replace('\\t', '')\n",
    "    rowdict[\"Title_Language\"] = \"en\" # title_lang\n",
    "    rowdict[\"Media_Type\"] = submission_type\n",
    "    rowdict[\"Media_URL\"] = submission_url\n",
    "    rowdict[\"Date_Time\"] = submission_datetime\n",
    "    flair = submission.link_flair_text\n",
    "    if flair != None: flair = flair.replace('\\t', '')\n",
    "    rowdict[\"Flair\"] = flair\n",
    "    rowdict[\"Local_File_Name\"] = '/'.join(submission_localname.split('/')[3:])\n",
    "    rowdict[\"Is_OC\"] = submission.is_original_content\n",
    "    rowdict[\"Score\"] = submission.score\n",
    "    rowdict[\"Upvote_Ratio\"] = submission.upvote_ratio\n",
    "\n",
    "    return rowdict"
   ]
  },
  {
   "cell_type": "code",
   "execution_count": 14,
   "metadata": {},
   "outputs": [],
   "source": [
    "def retrieve_top(subreddit, timelabel:str=\"day\", limit:int=UPPER_BOUND) -> pd.DataFrame:\n",
    "    \"\"\" Return a DataFrame of the N top submissions over a given time horizon \"\"\"\n",
    "    top_submissions = subreddit.top(timelabel, limit=limit)\n",
    "    data_rowslist = []\n",
    "    outfile = open(OUTPUT_FOLDER + \"DATA_partial.txt\", 'a')\n",
    "    for submission in top_submissions:\n",
    "        # Process a submission with timer code\n",
    "        starttime = time.time()\n",
    "        rowdict = process_submission(submission)\n",
    "        endtime = time.time()\n",
    "        if 0 in rowdict.keys() and rowdict[0] == -1: continue\n",
    "        # Print submission ID\n",
    "        infostr = \"Current ID: \" + rowdict[\"ID\"]\n",
    "        timestr = f\"Time elapsed: {(endtime - starttime) / 1000:.03f} sec\"\n",
    "        print(infostr + '\\t' + timestr)\n",
    "        logging.debug(infostr)\n",
    "        logging.debug(timestr)\n",
    "        # Writes data to list and output file\n",
    "        data_rowslist.append(rowdict)\n",
    "        rowlist = [str(val) for val in rowdict.values()]\n",
    "        outfile.write('\\t'.join(rowlist) + '\\n')\n",
    "    outfile.close()\n",
    "    # Saves list to Pandas DataFrame\n",
    "    data = pd.DataFrame(data_rowslist, columns=COLUMN_LIST)\n",
    "    return data"
   ]
  },
  {
   "cell_type": "code",
   "execution_count": null,
   "metadata": {},
   "outputs": [],
   "source": [
    "\"\"\" Runs through provided parsing parameters \"\"\"\n",
    "log_path = OUTPUT_FOLDER + \"log.txt\"\n",
    "logging.basicConfig(level=logging.DEBUG, filename=log_path, filemode=\"w+\", \\\n",
    "                    format=\"%(asctime)-15s %(levelname)-8s %(message)s\")\n",
    "reddit = get_credentialed_parser()\n",
    "subreddit = reddit.subreddit('assholedesign')\n",
    "alldata = pd.DataFrame([], columns=COLUMN_LIST)\n",
    "for paramtup in PARSING_PARAMS: \n",
    "    timelabel = paramtup[0]\n",
    "    limit = paramtup[1]\n",
    "    trialstr = f\"Retrieving up to the top {limit} posts across {timelabel}\"\n",
    "    print(\"=================================================\")\n",
    "    print(trialstr)\n",
    "    logging.info(\"=================================================\")\n",
    "    logging.info(trialstr)\n",
    "    # Add data and drop submissions with duplicate ID\n",
    "    data = retrieve_top(subreddit, timelabel=timelabel, limit=limit)\n",
    "    alldata = pd.concat([alldata, data], axis=0)\n",
    "    alldata.drop_duplicates(subset=\"ID\", inplace=True)\n",
    "# Save all data to a file\n",
    "print(\"=================================================\")\n",
    "logging.info(\"=================================================\")\n",
    "alldata.to_csv(OUTPUT_FOLDER + \"DATA.txt\", sep='\\t', index=False)"
   ]
  },
  {
   "cell_type": "markdown",
   "metadata": {},
   "source": [
    "## Pre-processing\n",
    "\n",
    "After retrieving raw data from Reddit, I performed a manual analysis (coding, but in the social sciences sense). To facilitate the coding process, I used the following scripts to sample $n$ datapoints from the population. "
   ]
  },
  {
   "cell_type": "code",
   "execution_count": 10,
   "metadata": {},
   "outputs": [],
   "source": [
    "# Setup for new round of coding\n",
    "import pandas as pd\n",
    "import glob, os\n",
    "from random import sample\n",
    "import shutil\n",
    "\n",
    "dirpath = \"/Users/openamiguel/Documents/REDDIT/\"\n",
    "os.chdir(dirpath)\n",
    "df = pd.read_csv(f\"DATA_all.txt\", sep='\\t')"
   ]
  },
  {
   "cell_type": "code",
   "execution_count": 11,
   "metadata": {},
   "outputs": [
    {
     "name": "stdout",
     "output_type": "stream",
     "text": [
      "dwfdef\n",
      "acy7ry\n",
      "fhxhny\n",
      "fg1ufd\n",
      "feyru1\n",
      "fjcjq5\n",
      "ff0g82\n",
      "9riwq2\n",
      "7t2og3\n",
      "fdmy5o\n",
      "bhfd0b\n",
      "8ocgxp\n",
      "9mrep3\n",
      "e0yka2\n",
      "fm08n6\n",
      "dhdt0t\n",
      "bvlwsi\n",
      "abxtvw\n",
      "blpiiu\n",
      "8y9s91\n",
      "Total number of files: 20\n"
     ]
    }
   ],
   "source": [
    "# Save a certain number of images to a special folder\n",
    "num_files = 20\n",
    "analysis_num = 1\n",
    "indices = [i for i in range(len(df))]\n",
    "sampled_indices = sample(indices, len(df))\n",
    "\n",
    "i = 0\n",
    "j = 0\n",
    "os.chdir(dirpath + \"IMAGES/\")\n",
    "while i < num_files: \n",
    "    idx = sampled_indices[j]\n",
    "    j = j + 1\n",
    "    file_id = df.loc[idx, 'ID']\n",
    "    sourcelist = glob.glob(file_id + \".*\")\n",
    "    if len(sourcelist) == 0: continue\n",
    "    print(file_id)\n",
    "    source = sourcelist[0]\n",
    "    target = f\"{dirpath}CODING_{analysis_num:02d}/\" + source\n",
    "    try: shutil.copyfile(source, target)\n",
    "    except IOError as e:\n",
    "        print(f\"Unable to copy file. {e:s}\")\n",
    "        exit(1)\n",
    "    except: \n",
    "        print(f\"Unexpected error: {sys.exc_info()}\")\n",
    "        exit(1)\n",
    "    i = i + 1\n",
    "\n",
    "print(f\"Total number of files: {i}\")"
   ]
  },
  {
   "cell_type": "markdown",
   "metadata": {},
   "source": [
    "## Data analysis\n",
    "\n",
    "Next, I passed the coded data into some scripts that plot the data in. The comments in the following cells indicate my general approach, even if the details are irrelevant to other projects. "
   ]
  },
  {
   "cell_type": "code",
   "execution_count": 7,
   "metadata": {},
   "outputs": [
    {
     "name": "stdout",
     "output_type": "stream",
     "text": [
      "       ID                                    Title_Artifacts Title_Code  \\\n",
      "0  b0qpuz                                     Black very low       EC;S   \n",
      "1  b9az02               Enriched with Vitamin A;Vitamin A 0%          U   \n",
      "2  b9uuf8  EVICTION NOTICE: We regret to inform you that ...         EC   \n",
      "3  bam9n9   Are you sure you want to cancel a free download?          F   \n",
      "5  bzrz6k  3 FREE months of Uconnect Access. Press the Ca...          U   \n",
      "\n",
      "  Is_Asshole_Design Modality_Code Interaction_Domain_Code  \\\n",
      "0             Y;Y;Y             O                      PP   \n",
      "1             Y;Y;Y             P                      PP   \n",
      "2             Y;Y;Y             P                       C   \n",
      "3             Y;Y;Y             C                      PS   \n",
      "5             Y;Y;Y             O                      PP   \n",
      "\n",
      "  Interaction_Purpose_Code Is_Dark_Pattern Dark_Pattern_Code  \n",
      "0                       IN               Y                HI  \n",
      "1                       PA               Y                HI  \n",
      "2                       PA               Y                TE  \n",
      "3                    IN;PA               Y          HI;FH;TE  \n",
      "5                 IN;PA;ES               Y             FA;FH  \n",
      "\n",
      "Length of dataframe: 25\n"
     ]
    }
   ],
   "source": [
    "import pandas as pd\n",
    "import numpy as np\n",
    "import os\n",
    "import matplotlib.pyplot as plt\n",
    "\n",
    "# Load data from a file\n",
    "dirpath = \"/Users/openamiguel/Documents/REDDIT/\"\n",
    "os.chdir(dirpath)\n",
    "df = pd.read_csv(\"CODING_ALL.txt\", sep='\\t')\n",
    "\n",
    "# Add column names to data\n",
    "columns = [\"ID\", \"Title_Artifacts\", \"Title_Code\", \"Is_Asshole_Design\", \"Modality_Code\", \"Interaction_Domain_Code\", \"Interaction_Purpose_Code\", \"Is_Dark_Pattern\", \"Dark_Pattern_Code\"]\n",
    "df.columns = columns\n",
    "\n",
    "# Filter out posts that are not asshole design\n",
    "df_filtered = df[df.Is_Asshole_Design == \"Y;Y;Y\"]\n",
    "\n",
    "# Filter out posts that are not dark patterns\n",
    "df_filtered = df_filtered[df_filtered.Is_Dark_Pattern == \"Y\"]\n",
    "\n",
    "print(df_filtered.head())\n",
    "print()\n",
    "print(f\"Length of dataframe: {len(df_filtered)}\")"
   ]
  },
  {
   "cell_type": "code",
   "execution_count": null,
   "metadata": {},
   "outputs": [],
   "source": [
    "# Retrieve dates of all the dark patterns posts\n",
    "dirpath = \"/Users/openamiguel/Documents/REDDIT/\"\n",
    "os.chdir(dirpath)\n",
    "list_dates = []\n",
    "df_all = pd.read_csv(\"DATA_all.txt\", sep='\\t')\n",
    "\n",
    "for id_str in df_filtered.ID: \n",
    "    df_date = df_all.Date_Time[df_all.ID == id_str]\n",
    "    list_dates.append(df_date.iloc[0])\n",
    "list_dates.sort()\n",
    "\n",
    "print(list_dates)"
   ]
  },
  {
   "cell_type": "code",
   "execution_count": 8,
   "metadata": {},
   "outputs": [],
   "source": [
    "# Subsumes certain codes with a broader category\n",
    "def get_code_replace(): \n",
    "    code_replace = dict()\n",
    "    replace_1 = ['RM', 'PC', 'IC'] # Replace with 'O'\n",
    "    replace_2 = ['FC', 'HC', 'SB', 'BAS'] # Replace with 'S'\n",
    "    replace_3 = ['HI', 'PS', 'AM', 'TE', 'FH', 'DA', 'TQ'] # Replace with 'II'\n",
    "    replace_4 = ['SP', 'PZ', 'G'] # Replace with 'FA'\n",
    "    replaces = ['O', 'S', 'II', 'FA']\n",
    "    replace_list = [replace_1, replace_2, replace_3, replace_4]\n",
    "\n",
    "    for newcode, oldlist in zip(replaces, replace_list): \n",
    "        for entry in oldlist: \n",
    "            code_replace[entry] = newcode\n",
    "    \n",
    "    return code_replace"
   ]
  },
  {
   "cell_type": "code",
   "execution_count": 9,
   "metadata": {},
   "outputs": [
    {
     "data": {
      "image/png": "[encoded data removed]",
      "text/plain": [
       "<Figure size 432x288 with 1 Axes>"
      ]
     },
     "metadata": {},
     "output_type": "display_data"
    },
    {
     "data": {
      "image/png": "[encoded data removed]",
      "text/plain": [
       "<Figure size 432x288 with 1 Axes>"
      ]
     },
     "metadata": {},
     "output_type": "display_data"
    },
    {
     "data": {
      "image/png": "[encoded data removed]",
      "text/plain": [
       "<Figure size 432x288 with 1 Axes>"
      ]
     },
     "metadata": {},
     "output_type": "display_data"
    },
    {
     "data": {
      "image/png": "[encoded data removed]",
      "text/plain": [
       "<Figure size 432x288 with 1 Axes>"
      ]
     },
     "metadata": {},
     "output_type": "display_data"
    },
    {
     "data": {
      "image/png": "[encoded data removed]",
      "text/plain": [
       "<Figure size 432x288 with 1 Axes>"
      ]
     },
     "metadata": {},
     "output_type": "display_data"
    },
    {
     "data": {
      "image/png": "[encoded data removed]",
      "text/plain": [
       "<Figure size 432x288 with 1 Axes>"
      ]
     },
     "metadata": {},
     "output_type": "display_data"
    },
    {
     "data": {
      "text/plain": [
       "({'II': 24, 'FA': 5, 'O': 5, 'S': 3}, 37)"
      ]
     },
     "execution_count": 9,
     "metadata": {},
     "output_type": "execute_result"
    }
   ],
   "source": [
    "# Plot data from a column as a bar graph\n",
    "def plot_codes(field_of_interest: str, code_replace: dict={}): \n",
    "    codes = dict()\n",
    "    for row in df_filtered[field_of_interest]: \n",
    "        entries = row.split(';')\n",
    "        for entry in entries: \n",
    "            entry_rep = entry\n",
    "            if entry_rep in code_replace.keys(): \n",
    "                entry_rep = code_replace[entry_rep]\n",
    "            if entry_rep in codes.keys(): \n",
    "                codes[entry_rep] = codes[entry_rep] + 1\n",
    "            else:\n",
    "                codes[entry_rep] = 1\n",
    "    title = f\"Field of interest: {field_of_interest}\"\n",
    "    if len(code_replace.keys()) > 0: title = title + \" with replacements\"\n",
    "    plt.title(title, fontsize=16)\n",
    "    plt.bar(codes.keys(), codes.values(), width=1, color='g', edgecolor='k')\n",
    "    plt.show()\n",
    "    \n",
    "    return codes, np.sum(np.array(list(codes.values())))\n",
    "\n",
    "for colname in columns:\n",
    "    if \"Code\" in colname: plot_codes(colname)\n",
    "\n",
    "plot_codes(\"Dark_Pattern_Code\", code_replace=get_code_replace())"
   ]
  },
  {
   "cell_type": "code",
   "execution_count": null,
   "metadata": {},
   "outputs": [],
   "source": []
  }
 ],
 "metadata": {
  "kernelspec": {
   "display_name": "Python 3",
   "language": "python",
   "name": "python3"
  },
  "language_info": {
   "codemirror_mode": {
    "name": "ipython",
    "version": 3
   },
   "file_extension": ".py",
   "mimetype": "text/x-python",
   "name": "python",
   "nbconvert_exporter": "python",
   "pygments_lexer": "ipython3",
   "version": "3.6.5"
  }
 },
 "nbformat": 4,
 "nbformat_minor": 2
}
